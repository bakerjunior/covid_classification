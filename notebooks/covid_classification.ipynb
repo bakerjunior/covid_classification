{
 "cells": [
  {
   "cell_type": "code",
   "execution_count": 87,
   "metadata": {},
   "outputs": [],
   "source": [
    "#Importing packages for data manipulation, visualisation and model building\n",
    "import numpy as np\n",
    "import pandas as pd\n",
    "import scipy\n",
    "import matplotlib.pyplot as plt\n",
    "from sklearn.model_selection import train_test_split\n",
    "from keras.models import Sequential\n",
    "from keras.layers import Dense, Dropout\n",
    "from sklearn.neighbors import KNeighborsClassifier\n",
    "from sklearn import neighbors\n",
    "from sklearn import metrics\n",
    "\n",
    "#Importing packages for evaluation metrics\n",
    "from sklearn.metrics import accuracy_score\n",
    "from sklearn.metrics import precision_score\n",
    "from sklearn.metrics import f1_score\n",
    "from sklearn.metrics import recall_score"
   ]
  },
  {
   "cell_type": "code",
   "execution_count": 88,
   "metadata": {
    "pycharm": {
     "name": "#%%\n"
    }
   },
   "outputs": [],
   "source": [
    "#random seed so that the results are reproducible\n",
    "np.random.seed(2)\n",
    "#Uploading the data into X and Y (input and outputs)\n",
    "# to train the neural network\n",
    "dataset = pd.read_csv('/Users/user/PycharmProjects/covid_classification/data/covid_final.csv')\n",
    "X = dataset[['location','country','gender','age','vis_wuhan','from_wuhan','symptom1','symptom2','symptom3','symptom4','symptom5','symptom6','diff_sym_hos']]\n",
    "Y = dataset['result']"
   ]
  },
  {
   "cell_type": "code",
   "execution_count": 89,
   "metadata": {
    "pycharm": {
     "name": "#%%\n"
    }
   },
   "outputs": [],
   "source": [
    "#Splitting the data into training and test data\n",
    "X_train, X_test, Y_train, Y_test = train_test_split(X,Y,test_size=0.3,random_state=10)"
   ]
  },
  {
   "cell_type": "markdown",
   "metadata": {
    "pycharm": {
     "name": "#%% md\n"
    }
   },
   "source": [
    "# Building and training a neural network"
   ]
  },
  {
   "cell_type": "code",
   "execution_count": 90,
   "metadata": {
    "pycharm": {
     "name": "#%%\n"
    }
   },
   "outputs": [],
   "source": [
    "#creating a simple feedforward neural network\n",
    "model = Sequential()\n",
    "model.add(Dense(15, input_dim=13, activation='relu'))\n",
    "model.add(Dense(10, activation='relu'))\n",
    "model.add(Dense(8, activation='relu'))\n",
    "model.add(Dropout(0.2)) #Dropout added to prevent overfitting\n",
    "model.add(Dense(1, activation='sigmoid'))"
   ]
  },
  {
   "cell_type": "code",
   "execution_count": 91,
   "metadata": {
    "pycharm": {
     "name": "#%%\n"
    }
   },
   "outputs": [
    {
     "name": "stdout",
     "output_type": "stream",
     "text": [
      "Epoch 1/100\n",
      "31/31 [==============================] - 0s 7ms/step - loss: 0.6048 - accuracy: 0.8593 - val_loss: 0.4275 - val_accuracy: 0.8687\n",
      "Epoch 2/100\n",
      "31/31 [==============================] - 0s 6ms/step - loss: 0.3717 - accuracy: 0.8576 - val_loss: 0.3448 - val_accuracy: 0.8571\n",
      "Epoch 3/100\n",
      "31/31 [==============================] - 0s 6ms/step - loss: 0.3297 - accuracy: 0.8295 - val_loss: 0.3207 - val_accuracy: 0.8571\n",
      "Epoch 4/100\n",
      "31/31 [==============================] - 0s 5ms/step - loss: 0.2897 - accuracy: 0.8593 - val_loss: 0.3096 - val_accuracy: 0.8571\n",
      "Epoch 5/100\n",
      "31/31 [==============================] - 0s 5ms/step - loss: 0.2756 - accuracy: 0.8543 - val_loss: 0.2906 - val_accuracy: 0.8687\n",
      "Epoch 6/100\n",
      "31/31 [==============================] - 0s 5ms/step - loss: 0.2528 - accuracy: 0.8758 - val_loss: 0.2867 - val_accuracy: 0.8958\n",
      "Epoch 7/100\n",
      "31/31 [==============================] - 0s 5ms/step - loss: 0.2442 - accuracy: 0.8858 - val_loss: 0.2666 - val_accuracy: 0.8996\n",
      "Epoch 8/100\n",
      "31/31 [==============================] - 0s 4ms/step - loss: 0.2448 - accuracy: 0.8974 - val_loss: 0.2777 - val_accuracy: 0.8958\n",
      "Epoch 9/100\n",
      "31/31 [==============================] - 0s 4ms/step - loss: 0.2243 - accuracy: 0.8957 - val_loss: 0.2543 - val_accuracy: 0.8958\n",
      "Epoch 10/100\n",
      "31/31 [==============================] - 0s 4ms/step - loss: 0.2161 - accuracy: 0.8957 - val_loss: 0.2498 - val_accuracy: 0.8919\n",
      "Epoch 11/100\n",
      "31/31 [==============================] - 0s 4ms/step - loss: 0.2192 - accuracy: 0.8907 - val_loss: 0.2457 - val_accuracy: 0.8958\n",
      "Epoch 12/100\n",
      "31/31 [==============================] - 0s 4ms/step - loss: 0.2059 - accuracy: 0.8957 - val_loss: 0.2479 - val_accuracy: 0.8919\n",
      "Epoch 13/100\n",
      "31/31 [==============================] - 0s 4ms/step - loss: 0.2060 - accuracy: 0.8924 - val_loss: 0.2457 - val_accuracy: 0.8958\n",
      "Epoch 14/100\n",
      "31/31 [==============================] - 0s 4ms/step - loss: 0.2019 - accuracy: 0.8940 - val_loss: 0.2375 - val_accuracy: 0.8919\n",
      "Epoch 15/100\n",
      "31/31 [==============================] - 0s 4ms/step - loss: 0.1992 - accuracy: 0.9007 - val_loss: 0.2332 - val_accuracy: 0.8880\n",
      "Epoch 16/100\n",
      "31/31 [==============================] - 0s 4ms/step - loss: 0.2009 - accuracy: 0.8940 - val_loss: 0.2279 - val_accuracy: 0.8919\n",
      "Epoch 17/100\n",
      "31/31 [==============================] - 0s 4ms/step - loss: 0.1866 - accuracy: 0.8940 - val_loss: 0.2319 - val_accuracy: 0.8919\n",
      "Epoch 18/100\n",
      "31/31 [==============================] - 0s 4ms/step - loss: 0.1986 - accuracy: 0.8957 - val_loss: 0.2358 - val_accuracy: 0.8880\n",
      "Epoch 19/100\n",
      "31/31 [==============================] - 0s 4ms/step - loss: 0.1849 - accuracy: 0.9073 - val_loss: 0.2203 - val_accuracy: 0.8919\n",
      "Epoch 20/100\n",
      "31/31 [==============================] - 0s 4ms/step - loss: 0.1719 - accuracy: 0.9007 - val_loss: 0.2192 - val_accuracy: 0.8996\n",
      "Epoch 21/100\n",
      "31/31 [==============================] - 0s 4ms/step - loss: 0.1866 - accuracy: 0.8974 - val_loss: 0.2197 - val_accuracy: 0.8880\n",
      "Epoch 22/100\n",
      "31/31 [==============================] - 0s 4ms/step - loss: 0.1819 - accuracy: 0.8940 - val_loss: 0.2164 - val_accuracy: 0.8958\n",
      "Epoch 23/100\n",
      "31/31 [==============================] - 0s 4ms/step - loss: 0.1784 - accuracy: 0.8974 - val_loss: 0.2123 - val_accuracy: 0.8958\n",
      "Epoch 24/100\n",
      "31/31 [==============================] - 0s 4ms/step - loss: 0.1751 - accuracy: 0.9023 - val_loss: 0.2070 - val_accuracy: 0.8996\n",
      "Epoch 25/100\n",
      "31/31 [==============================] - 0s 4ms/step - loss: 0.1729 - accuracy: 0.8940 - val_loss: 0.2156 - val_accuracy: 0.8842\n",
      "Epoch 26/100\n",
      "31/31 [==============================] - 0s 4ms/step - loss: 0.1677 - accuracy: 0.9073 - val_loss: 0.2099 - val_accuracy: 0.8880\n",
      "Epoch 27/100\n",
      "31/31 [==============================] - 0s 4ms/step - loss: 0.1766 - accuracy: 0.8990 - val_loss: 0.2361 - val_accuracy: 0.8842\n",
      "Epoch 28/100\n",
      "31/31 [==============================] - 0s 4ms/step - loss: 0.1760 - accuracy: 0.8990 - val_loss: 0.1948 - val_accuracy: 0.9035\n",
      "Epoch 29/100\n",
      "31/31 [==============================] - 0s 4ms/step - loss: 0.1640 - accuracy: 0.9123 - val_loss: 0.1936 - val_accuracy: 0.8996\n",
      "Epoch 30/100\n",
      "31/31 [==============================] - 0s 4ms/step - loss: 0.1525 - accuracy: 0.9073 - val_loss: 0.2285 - val_accuracy: 0.8996\n",
      "Epoch 31/100\n",
      "31/31 [==============================] - 0s 4ms/step - loss: 0.1521 - accuracy: 0.9023 - val_loss: 0.1989 - val_accuracy: 0.9035\n",
      "Epoch 32/100\n",
      "31/31 [==============================] - 0s 4ms/step - loss: 0.1698 - accuracy: 0.9040 - val_loss: 0.1837 - val_accuracy: 0.9112\n",
      "Epoch 33/100\n",
      "31/31 [==============================] - 0s 4ms/step - loss: 0.1503 - accuracy: 0.9106 - val_loss: 0.1810 - val_accuracy: 0.9189\n",
      "Epoch 34/100\n",
      "31/31 [==============================] - 0s 4ms/step - loss: 0.1681 - accuracy: 0.9023 - val_loss: 0.1967 - val_accuracy: 0.9073\n",
      "Epoch 35/100\n",
      "31/31 [==============================] - 0s 4ms/step - loss: 0.1606 - accuracy: 0.8990 - val_loss: 0.1831 - val_accuracy: 0.9189\n",
      "Epoch 36/100\n",
      "31/31 [==============================] - 0s 5ms/step - loss: 0.1615 - accuracy: 0.9023 - val_loss: 0.1811 - val_accuracy: 0.9189\n",
      "Epoch 37/100\n",
      "31/31 [==============================] - 0s 4ms/step - loss: 0.1552 - accuracy: 0.9205 - val_loss: 0.1737 - val_accuracy: 0.9305\n",
      "Epoch 38/100\n",
      "31/31 [==============================] - 0s 3ms/step - loss: 0.1575 - accuracy: 0.9106 - val_loss: 0.1727 - val_accuracy: 0.9189\n",
      "Epoch 39/100\n",
      "31/31 [==============================] - 0s 4ms/step - loss: 0.1616 - accuracy: 0.9073 - val_loss: 0.1733 - val_accuracy: 0.9112\n",
      "Epoch 40/100\n",
      "31/31 [==============================] - 0s 4ms/step - loss: 0.1530 - accuracy: 0.9172 - val_loss: 0.1836 - val_accuracy: 0.9189\n",
      "Epoch 41/100\n",
      "31/31 [==============================] - 0s 4ms/step - loss: 0.1459 - accuracy: 0.9288 - val_loss: 0.2134 - val_accuracy: 0.8996\n",
      "Epoch 42/100\n",
      "31/31 [==============================] - 0s 3ms/step - loss: 0.1493 - accuracy: 0.9272 - val_loss: 0.1866 - val_accuracy: 0.9151\n",
      "Epoch 43/100\n",
      "31/31 [==============================] - 0s 4ms/step - loss: 0.1356 - accuracy: 0.9272 - val_loss: 0.1717 - val_accuracy: 0.9228\n",
      "Epoch 44/100\n",
      "31/31 [==============================] - 0s 4ms/step - loss: 0.1444 - accuracy: 0.9321 - val_loss: 0.1592 - val_accuracy: 0.9228\n",
      "Epoch 45/100\n",
      "31/31 [==============================] - 0s 4ms/step - loss: 0.1250 - accuracy: 0.9404 - val_loss: 0.1716 - val_accuracy: 0.9382\n",
      "Epoch 46/100\n",
      "31/31 [==============================] - 0s 4ms/step - loss: 0.1215 - accuracy: 0.9404 - val_loss: 0.1548 - val_accuracy: 0.9266\n",
      "Epoch 47/100\n",
      "31/31 [==============================] - 0s 5ms/step - loss: 0.1339 - accuracy: 0.9338 - val_loss: 0.1525 - val_accuracy: 0.9305\n",
      "Epoch 48/100\n",
      "31/31 [==============================] - 0s 4ms/step - loss: 0.1264 - accuracy: 0.9371 - val_loss: 0.1491 - val_accuracy: 0.9382\n",
      "Epoch 49/100\n",
      "31/31 [==============================] - 0s 4ms/step - loss: 0.1134 - accuracy: 0.9454 - val_loss: 0.1535 - val_accuracy: 0.9344\n",
      "Epoch 50/100\n",
      "31/31 [==============================] - 0s 4ms/step - loss: 0.1147 - accuracy: 0.9520 - val_loss: 0.1501 - val_accuracy: 0.9266\n",
      "Epoch 51/100\n",
      "31/31 [==============================] - 0s 4ms/step - loss: 0.1233 - accuracy: 0.9354 - val_loss: 0.1536 - val_accuracy: 0.9305\n",
      "Epoch 52/100\n",
      "31/31 [==============================] - 0s 5ms/step - loss: 0.1150 - accuracy: 0.9454 - val_loss: 0.1539 - val_accuracy: 0.9305\n",
      "Epoch 53/100\n",
      "31/31 [==============================] - 0s 4ms/step - loss: 0.1060 - accuracy: 0.9536 - val_loss: 0.1572 - val_accuracy: 0.9421\n",
      "Epoch 54/100\n",
      "31/31 [==============================] - 0s 5ms/step - loss: 0.1151 - accuracy: 0.9437 - val_loss: 0.1512 - val_accuracy: 0.9189\n",
      "Epoch 55/100\n",
      "31/31 [==============================] - 0s 7ms/step - loss: 0.1161 - accuracy: 0.9421 - val_loss: 0.2160 - val_accuracy: 0.9266\n",
      "Epoch 56/100\n",
      "31/31 [==============================] - 0s 5ms/step - loss: 0.1222 - accuracy: 0.9338 - val_loss: 0.2030 - val_accuracy: 0.9305\n",
      "Epoch 57/100\n",
      "31/31 [==============================] - 0s 4ms/step - loss: 0.1260 - accuracy: 0.9321 - val_loss: 0.1400 - val_accuracy: 0.9421\n",
      "Epoch 58/100\n",
      "31/31 [==============================] - 0s 4ms/step - loss: 0.0960 - accuracy: 0.9570 - val_loss: 0.1421 - val_accuracy: 0.9382\n"
     ]
    },
    {
     "name": "stdout",
     "output_type": "stream",
     "text": [
      "Epoch 59/100\n",
      "31/31 [==============================] - 0s 5ms/step - loss: 0.1052 - accuracy: 0.9636 - val_loss: 0.1461 - val_accuracy: 0.9266\n",
      "Epoch 60/100\n",
      "31/31 [==============================] - 0s 5ms/step - loss: 0.1091 - accuracy: 0.9503 - val_loss: 0.1776 - val_accuracy: 0.9344\n",
      "Epoch 61/100\n",
      "31/31 [==============================] - 0s 6ms/step - loss: 0.1122 - accuracy: 0.9586 - val_loss: 0.1428 - val_accuracy: 0.9344\n",
      "Epoch 62/100\n",
      "31/31 [==============================] - 0s 4ms/step - loss: 0.1127 - accuracy: 0.9470 - val_loss: 0.1545 - val_accuracy: 0.9421\n",
      "Epoch 63/100\n",
      "31/31 [==============================] - 0s 4ms/step - loss: 0.1223 - accuracy: 0.9387 - val_loss: 0.1431 - val_accuracy: 0.9421\n",
      "Epoch 64/100\n",
      "31/31 [==============================] - 0s 6ms/step - loss: 0.1021 - accuracy: 0.9536 - val_loss: 0.1362 - val_accuracy: 0.9421\n",
      "Epoch 65/100\n",
      "31/31 [==============================] - 0s 3ms/step - loss: 0.0994 - accuracy: 0.9520 - val_loss: 0.1430 - val_accuracy: 0.9459\n",
      "Epoch 66/100\n",
      "31/31 [==============================] - 0s 3ms/step - loss: 0.0998 - accuracy: 0.9536 - val_loss: 0.1307 - val_accuracy: 0.9382\n",
      "Epoch 67/100\n",
      "31/31 [==============================] - 0s 4ms/step - loss: 0.0875 - accuracy: 0.9669 - val_loss: 0.1368 - val_accuracy: 0.9382\n",
      "Epoch 68/100\n",
      "31/31 [==============================] - 0s 5ms/step - loss: 0.0975 - accuracy: 0.9503 - val_loss: 0.1676 - val_accuracy: 0.9382\n",
      "Epoch 69/100\n",
      "31/31 [==============================] - 0s 3ms/step - loss: 0.0974 - accuracy: 0.9520 - val_loss: 0.1447 - val_accuracy: 0.9459\n",
      "Epoch 70/100\n",
      "31/31 [==============================] - 0s 3ms/step - loss: 0.0870 - accuracy: 0.9636 - val_loss: 0.1972 - val_accuracy: 0.9382\n",
      "Epoch 71/100\n",
      "31/31 [==============================] - 0s 5ms/step - loss: 0.0947 - accuracy: 0.9536 - val_loss: 0.1361 - val_accuracy: 0.9382\n",
      "Epoch 72/100\n",
      "31/31 [==============================] - 0s 5ms/step - loss: 0.0960 - accuracy: 0.9586 - val_loss: 0.1579 - val_accuracy: 0.9382\n",
      "Epoch 73/100\n",
      "31/31 [==============================] - 0s 3ms/step - loss: 0.1050 - accuracy: 0.9603 - val_loss: 0.1397 - val_accuracy: 0.9498\n",
      "Epoch 74/100\n",
      "31/31 [==============================] - 0s 4ms/step - loss: 0.1057 - accuracy: 0.9487 - val_loss: 0.1405 - val_accuracy: 0.9421\n",
      "Epoch 75/100\n",
      "31/31 [==============================] - 0s 6ms/step - loss: 0.0941 - accuracy: 0.9603 - val_loss: 0.1263 - val_accuracy: 0.9459\n",
      "Epoch 76/100\n",
      "31/31 [==============================] - 0s 4ms/step - loss: 0.0821 - accuracy: 0.9685 - val_loss: 0.1325 - val_accuracy: 0.9382\n",
      "Epoch 77/100\n",
      "31/31 [==============================] - 0s 3ms/step - loss: 0.0811 - accuracy: 0.9719 - val_loss: 0.1668 - val_accuracy: 0.9421\n",
      "Epoch 78/100\n",
      "31/31 [==============================] - 0s 3ms/step - loss: 0.0946 - accuracy: 0.9636 - val_loss: 0.1420 - val_accuracy: 0.9344\n",
      "Epoch 79/100\n",
      "31/31 [==============================] - 0s 4ms/step - loss: 0.0875 - accuracy: 0.9619 - val_loss: 0.1323 - val_accuracy: 0.9459\n",
      "Epoch 80/100\n",
      "31/31 [==============================] - 0s 3ms/step - loss: 0.0858 - accuracy: 0.9652 - val_loss: 0.1266 - val_accuracy: 0.9382\n",
      "Epoch 81/100\n",
      "31/31 [==============================] - 0s 3ms/step - loss: 0.0791 - accuracy: 0.9719 - val_loss: 0.1670 - val_accuracy: 0.9459\n",
      "Epoch 82/100\n",
      "31/31 [==============================] - 0s 4ms/step - loss: 0.0772 - accuracy: 0.9685 - val_loss: 0.1260 - val_accuracy: 0.9498\n",
      "Epoch 83/100\n",
      "31/31 [==============================] - 0s 3ms/step - loss: 0.0825 - accuracy: 0.9603 - val_loss: 0.1273 - val_accuracy: 0.9459\n",
      "Epoch 84/100\n",
      "31/31 [==============================] - 0s 3ms/step - loss: 0.0866 - accuracy: 0.9586 - val_loss: 0.1561 - val_accuracy: 0.9421\n",
      "Epoch 85/100\n",
      "31/31 [==============================] - 0s 3ms/step - loss: 0.0800 - accuracy: 0.9669 - val_loss: 0.1185 - val_accuracy: 0.9498\n",
      "Epoch 86/100\n",
      "31/31 [==============================] - 0s 3ms/step - loss: 0.0802 - accuracy: 0.9619 - val_loss: 0.1136 - val_accuracy: 0.9614\n",
      "Epoch 87/100\n",
      "31/31 [==============================] - 0s 4ms/step - loss: 0.0730 - accuracy: 0.9685 - val_loss: 0.1156 - val_accuracy: 0.9537\n",
      "Epoch 88/100\n",
      "31/31 [==============================] - 0s 3ms/step - loss: 0.0670 - accuracy: 0.9685 - val_loss: 0.1071 - val_accuracy: 0.9459\n",
      "Epoch 89/100\n",
      "31/31 [==============================] - 0s 3ms/step - loss: 0.0775 - accuracy: 0.9669 - val_loss: 0.1117 - val_accuracy: 0.9575\n",
      "Epoch 90/100\n",
      "31/31 [==============================] - 0s 4ms/step - loss: 0.0758 - accuracy: 0.9702 - val_loss: 0.1172 - val_accuracy: 0.9537\n",
      "Epoch 91/100\n",
      "31/31 [==============================] - 0s 4ms/step - loss: 0.0856 - accuracy: 0.9603 - val_loss: 0.1201 - val_accuracy: 0.9575\n",
      "Epoch 92/100\n",
      "31/31 [==============================] - 0s 4ms/step - loss: 0.0646 - accuracy: 0.9735 - val_loss: 0.1289 - val_accuracy: 0.9498\n",
      "Epoch 93/100\n",
      "31/31 [==============================] - 0s 4ms/step - loss: 0.0744 - accuracy: 0.9619 - val_loss: 0.0942 - val_accuracy: 0.9575\n",
      "Epoch 94/100\n",
      "31/31 [==============================] - 0s 5ms/step - loss: 0.0691 - accuracy: 0.9636 - val_loss: 0.1068 - val_accuracy: 0.9653\n",
      "Epoch 95/100\n",
      "31/31 [==============================] - 0s 3ms/step - loss: 0.0670 - accuracy: 0.9669 - val_loss: 0.1190 - val_accuracy: 0.9614\n",
      "Epoch 96/100\n",
      "31/31 [==============================] - 0s 3ms/step - loss: 0.0729 - accuracy: 0.9636 - val_loss: 0.1106 - val_accuracy: 0.9614\n",
      "Epoch 97/100\n",
      "31/31 [==============================] - 0s 4ms/step - loss: 0.0838 - accuracy: 0.9603 - val_loss: 0.1467 - val_accuracy: 0.9537\n",
      "Epoch 98/100\n",
      "31/31 [==============================] - 0s 4ms/step - loss: 0.0704 - accuracy: 0.9702 - val_loss: 0.1187 - val_accuracy: 0.9575\n",
      "Epoch 99/100\n",
      "31/31 [==============================] - 0s 4ms/step - loss: 0.0655 - accuracy: 0.9735 - val_loss: 0.1032 - val_accuracy: 0.9575\n",
      "Epoch 100/100\n",
      "31/31 [==============================] - 0s 3ms/step - loss: 0.0740 - accuracy: 0.9685 - val_loss: 0.1027 - val_accuracy: 0.9537\n"
     ]
    }
   ],
   "source": [
    "#compile the neural network\n",
    "model.compile(loss='binary_crossentropy', optimizer = \"adam\", metrics =['accuracy'])\n",
    "\n",
    "#train and validate the neural network\n",
    "model.fit(X_train, Y_train, epochs = 100, batch_size = 20, validation_data = (X_test,Y_test))\n",
    "\n",
    "#saving the neural network\n",
    "model.save('/Users/user/PycharmProjects/covid_classification/models/neural_net.h5')"
   ]
  },
  {
   "cell_type": "markdown",
   "metadata": {
    "pycharm": {
     "name": "#%% md\n"
    }
   },
   "source": [
    "# Evaluating and visualising the performance of the neural network"
   ]
  },
  {
   "cell_type": "code",
   "execution_count": 96,
   "metadata": {},
   "outputs": [
    {
     "name": "stdout",
     "output_type": "stream",
     "text": [
      "[0.05537649616599083, 0.9801324605941772]\n",
      "[0.10274749994277954, 0.953667938709259]\n"
     ]
    }
   ],
   "source": [
    "#Evaluate Neural Net\n",
    "training_acc_nn = model.evaluate(X_train,Y_train,verbose=0)\n",
    "test_acc_nn = model.evaluate(X_test,Y_test,verbose=0)\n",
    "print(training_acc_nn)\n",
    "print(test_acc_nn)"
   ]
  },
  {
   "cell_type": "code",
   "execution_count": 98,
   "metadata": {},
   "outputs": [
    {
     "name": "stdout",
     "output_type": "stream",
     "text": [
      "WARNING:tensorflow:From <ipython-input-98-cfc5e280cf52>:2: Sequential.predict_classes (from tensorflow.python.keras.engine.sequential) is deprecated and will be removed after 2021-01-01.\n",
      "Instructions for updating:\n",
      "Please use instead:* `np.argmax(model.predict(x), axis=-1)`,   if your model does multi-class classification   (e.g. if it uses a `softmax` last-layer activation).* `(model.predict(x) > 0.5).astype(\"int32\")`,   if your model does binary classification   (e.g. if it uses a `sigmoid` last-layer activation).\n",
      "0.8055555555555556\n",
      "0.9536679536679536\n",
      "0.8285714285714286\n",
      "0.8529411764705882\n"
     ]
    },
    {
     "data": {
      "text/plain": [
       "Text(0.5, 1.0, 'Evaluation Metrics for Neural Network')"
      ]
     },
     "execution_count": 98,
     "metadata": {},
     "output_type": "execute_result"
    },
    {
     "data": {
      "image/png": "[encoded data removed]",
      "text/plain": [
       "<Figure size 432x288 with 1 Axes>"
      ]
     },
     "metadata": {
      "needs_background": "light"
     },
     "output_type": "display_data"
    }
   ],
   "source": [
    "#Visualising metrics to Neural Net\n",
    "Y_predict_nn = model.predict_classes(X_test,verbose=0)\n",
    "\n",
    "accuracy_nn = accuracy_score(Y_test,Y_predict_nn)\n",
    "precision_nn = precision_score(Y_test, Y_predict_nn)\n",
    "f1_nn = f1_score(Y_test,Y_predict_nn)\n",
    "recall_nn = recall_score(Y_test, Y_predict_nn)\n",
    "print(precision_nn)\n",
    "print(accuracy_nn)\n",
    "print(f1_nn)\n",
    "print(recall_nn)\n",
    "plt.bar(['Accuracy','F1 Score','Recall Score','Precision Score'],[accuracy_nn,f1_nn,recall_nn,precision_nn],color=['red','green','purple','orange'])\n",
    "plt.plot([accuracy_nn,f1_nn,recall_nn,precision_nn],color='black')\n",
    "plt.title('Evaluation Metrics for Neural Network')"
   ]
  },
  {
   "cell_type": "markdown",
   "source": [
    "# Fitting the data on a KNNs "
   ],
   "metadata": {
    "collapsed": false
   }
  },
  {
   "cell_type": "code",
   "execution_count": null,
   "outputs": [],
   "source": [
    "#Build and train a KNNs model\n",
    "knn_model = KNeighborsClassifier()\n",
    "knn_model.fit(X_train, Y_train)"
   ],
   "metadata": {
    "collapsed": false,
    "pycharm": {
     "name": "#%%\n"
    }
   }
  },
  {
   "cell_type": "markdown",
   "source": [
    "# Evaluating and visualising metrics of KNNs classifier"
   ],
   "metadata": {
    "collapsed": false
   }
  },
  {
   "cell_type": "code",
   "execution_count": null,
   "outputs": [],
   "source": [
    "# Evaluating and reviewing metrics of the predictions of the KNNs model\n",
    "Y_predict_knn = knn_model.predict(X_test)\n",
    "#Comparing the output I expected (Y_test) against the ones the model predicted (Y_predict)\n",
    "knn_metrics = metrics.classification_report(Y_test,Y_predict_knn)\n",
    "print(knn_metrics)"
   ],
   "metadata": {
    "collapsed": false,
    "pycharm": {
     "name": "#%%\n"
    }
   }
  },
  {
   "cell_type": "code",
   "execution_count": null,
   "outputs": [],
   "source": [
    "#A glance at predictions of the KNN model vs the expected results\n",
    "table = pd.DataFrame(Y_test)\n",
    "print('table 1')\n",
    "print(table.head())\n",
    "#add the predictions to the dataframe\n",
    "table['predictions'] = Y_predict_knn\n",
    "print('table 2')\n",
    "print(table.head())"
   ],
   "metadata": {
    "collapsed": false,
    "pycharm": {
     "name": "#%%\n"
    }
   }
  },
  {
   "cell_type": "code",
   "execution_count": null,
   "outputs": [],
   "source": [
    "#Visualising evaluation metrics for KNN\n",
    "\n",
    "accuracy_knn = accuracy_score(Y_test,Y_predict_knn)\n",
    "precision_knn = precision_score(Y_test, Y_predict_knn)\n",
    "f1_knn = f1_score(Y_test,Y_predict_knn)\n",
    "recall_knn = recall_score(Y_test, Y_predict_knn)\n",
    "print(precision_knn)\n",
    "print(accuracy_knn)\n",
    "print(f1_knn)\n",
    "print(recall_knn)\n",
    "\n",
    "plt.bar(['Accuracy','F1 Score','Recall Score','Precision Score'],[accuracy_knn,f1_knn,recall_knn,precision_knn],color=['red','green','purple','orange'])\n",
    "plt.plot([accuracy_knn,f1_knn,recall_knn,precision_knn],color='black')\n",
    "plt.title('Evaluation Metrics for K-Nearest Neighbors')"
   ],
   "metadata": {
    "collapsed": false,
    "pycharm": {
     "name": "#%%\n"
    }
   }
  },
  {
   "cell_type": "markdown",
   "source": [
    "# Visualising NN vs KNN"
   ],
   "metadata": {
    "collapsed": false
   }
  },
  {
   "cell_type": "code",
   "execution_count": null,
   "outputs": [],
   "source": [
    "fig = plt.figure(figsize=(8,6))\n",
    "#plt.bar(['Logistic Regression','Decision Tree','SVM','Gaussian NB','Boosted Random Forest'],[f1_lr,f1_dtc,f1_svm,f1_gnb,f1],color=['purple','red'])\n",
    "plt.plot(['KNNs','Neural Net'],[f1_knn,f1_nn],color='purple',marker='D')\n",
    "plt.plot(['KNNs','Neural Net'],[accuracy_knn,accuracy_nn],color='red',marker='^')\n",
    "plt.plot(['KNNs','Neural Net'],[precision_knn,precision_nn],color='blue',marker='s')\n",
    "plt.plot(['KNNs','Neural Net'],[recall_knn,recall_nn],color='green',marker='P')\n",
    "plt.legend(('F1 Score','Accuracy','Precision','Recall'))\n",
    "plt.title('Comparing the models\\' metrics')\n",
    "\n",
    "plt.show(fig)"
   ],
   "metadata": {
    "collapsed": false,
    "pycharm": {
     "name": "#%%\n"
    }
   }
  },
  {
   "cell_type": "markdown",
   "metadata": {},
   "source": []
  },
  {
   "cell_type": "code",
   "execution_count": 41,
   "metadata": {},
   "outputs": [
    {
     "data": {
      "text/plain": [
       "KNeighborsClassifier()"
      ]
     },
     "execution_count": 41,
     "metadata": {},
     "output_type": "execute_result"
    }
   ],
   "source": [
    "#Build and train a KNNs model\n",
    "knn_model = KNeighborsClassifier()\n",
    "knn_model.fit(X_train, Y_train)"
   ]
  },
  {
   "cell_type": "markdown",
   "metadata": {},
   "source": [
    "# Evaluating and visualising metrics of KNNs classifier"
   ]
  },
  {
   "cell_type": "code",
   "execution_count": 72,
   "metadata": {},
   "outputs": [
    {
     "name": "stdout",
     "output_type": "stream",
     "text": [
      "              precision    recall  f1-score   support\n",
      "\n",
      "           0       0.94      0.98      0.96       225\n",
      "           1       0.83      0.56      0.67        34\n",
      "\n",
      "    accuracy                           0.93       259\n",
      "   macro avg       0.88      0.77      0.81       259\n",
      "weighted avg       0.92      0.93      0.92       259\n",
      "\n"
     ]
    }
   ],
   "source": [
    "# Evaluating and reviewing metrics of the predictions of the KNNs model\n",
    "Y_predict_knn = knn_model.predict(X_test)\n",
    "#Comparing the output I expected (Y_test) against the ones the model predicted (Y_predict)\n",
    "knn_metrics = metrics.classification_report(Y_test,Y_predict_knn)\n",
    "print(knn_metrics)"
   ]
  },
  {
   "cell_type": "code",
   "execution_count": 73,
   "metadata": {},
   "outputs": [
    {
     "name": "stdout",
     "output_type": "stream",
     "text": [
      "table 1\n",
      "     result\n",
      "437       0\n",
      "723       0\n",
      "781       1\n",
      "450       0\n",
      "52        0\n",
      "table 2\n",
      "     result  predictions\n",
      "437       0            0\n",
      "723       0            0\n",
      "781       1            0\n",
      "450       0            0\n",
      "52        0            0\n"
     ]
    }
   ],
   "source": [
    "#A glance at predictions of the KNN model vs the expected results\n",
    "table = pd.DataFrame(Y_test)\n",
    "print('table 1')\n",
    "print(table.head())\n",
    "#add the predictions to the dataframe\n",
    "table['predictions'] = Y_predict_knn\n",
    "print('table 2')\n",
    "print(table.head())"
   ]
  },
  {
   "cell_type": "code",
   "execution_count": 78,
   "metadata": {},
   "outputs": [
    {
     "name": "stdout",
     "output_type": "stream",
     "text": [
      "0.8260869565217391\n",
      "0.9266409266409267\n",
      "0.6666666666666667\n",
      "0.5588235294117647\n"
     ]
    },
    {
     "data": {
      "text/plain": [
       "Text(0.5, 1.0, 'Evaluation Metrics for K-Nearest Neighbors')"
      ]
     },
     "execution_count": 78,
     "metadata": {},
     "output_type": "execute_result"
    },
    {
     "data": {
      "image/png": "[encoded data removed]",
      "text/plain": [
       "<Figure size 432x288 with 1 Axes>"
      ]
     },
     "metadata": {
      "needs_background": "light"
     },
     "output_type": "display_data"
    }
   ],
   "source": [
    "#Visualising evaluation metrics for KNN\n",
    "\n",
    "accuracy_knn = accuracy_score(Y_test,Y_predict_knn)\n",
    "precision_knn = precision_score(Y_test, Y_predict_knn)\n",
    "f1_knn = f1_score(Y_test,Y_predict_knn)\n",
    "recall_knn = recall_score(Y_test, Y_predict_knn)\n",
    "print(precision_knn)\n",
    "print(accuracy_knn)\n",
    "print(f1_knn)\n",
    "print(recall_knn)\n",
    "\n",
    "plt.bar(['Accuracy','F1 Score','Recall Score','Precision Score'],[accuracy_knn,f1_knn,recall_knn,precision_knn],color=['red','green','purple','orange'])\n",
    "plt.plot([accuracy_knn,f1_knn,recall_knn,precision_knn],color='black')\n",
    "plt.title('Evaluation Metrics for K-Nearest Neighbors')"
   ]
  },
  {
   "cell_type": "markdown",
   "metadata": {},
   "source": [
    "# Visualising NN vs KNN"
   ]
  },
  {
   "cell_type": "code",
   "execution_count": 100,
   "metadata": {},
   "outputs": [
    {
     "data": {
      "image/png": "[encoded data removed]",
      "text/plain": [
       "<Figure size 576x432 with 1 Axes>"
      ]
     },
     "metadata": {
      "needs_background": "light"
     },
     "output_type": "display_data"
    }
   ],
   "source": [
    "fig = plt.figure(figsize=(8,6))\n",
    "#plt.bar(['Logistic Regression','Decision Tree','SVM','Gaussian NB','Boosted Random Forest'],[f1_lr,f1_dtc,f1_svm,f1_gnb,f1],color=['purple','red'])\n",
    "plt.plot(['KNNs','Neural Net'],[f1_knn,f1_nn],color='purple',marker='D')\n",
    "plt.plot(['KNNs','Neural Net'],[accuracy_knn,accuracy_nn],color='red',marker='^')\n",
    "plt.plot(['KNNs','Neural Net'],[precision_knn,precision_nn],color='blue',marker='s')\n",
    "plt.plot(['KNNs','Neural Net'],[recall_knn,recall_nn],color='green',marker='P')\n",
    "plt.legend(('F1 Score','Accuracy','Precision','Recall'))\n",
    "plt.title('Comparing the models\\' metrics')\n",
    "\n",
    "plt.show(fig)"
   ]
  },
  {
   "cell_type": "code",
   "execution_count": null,
   "metadata": {},
   "outputs": [],
   "source": []
  }
 ],
 "metadata": {
  "kernelspec": {
   "display_name": "PyCharm (tf_intro)",
   "language": "python",
   "name": "pycharm-8612cf5e"
  },
  "language_info": {
   "codemirror_mode": {
    "name": "ipython",
    "version": 3
   },
   "file_extension": ".py",
   "mimetype": "text/x-python",
   "name": "python",
   "nbconvert_exporter": "python",
   "pygments_lexer": "ipython3",
   "version": "3.8.3"
  }
 },
 "nbformat": 4,
 "nbformat_minor": 1
}